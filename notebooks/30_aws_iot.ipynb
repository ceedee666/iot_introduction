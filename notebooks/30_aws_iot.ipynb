{
 "nbformat": 4,
 "nbformat_minor": 2,
 "metadata": {
  "language_info": {
   "name": "python",
   "codemirror_mode": {
    "name": "ipython",
    "version": 3
   }
  },
  "orig_nbformat": 2,
  "file_extension": ".py",
  "mimetype": "text/x-python",
  "name": "python",
  "npconvert_exporter": "python",
  "pygments_lexer": "ipython3",
  "version": 3
 },
 "cells": [
  {
   "cell_type": "markdown",
   "metadata": {},
   "source": [
    "# Introduction to AWS IoT Service\n",
    "The next step in this IoT introduction is to send sensor data to a cloud service. The cloud service can then be used to store and analyse the sensor data. In this introduction the required functionality is implemented using different AWS service. \n",
    "\n",
    "The following figure gives an overview of the solution architecutre that is implemented using different AWS service.  \n",
    "\n",
    "![AWS Service](./img/aws_iot_arch.png)\n",
    "\n",
    "The solution architechture consist of the following components:\n",
    "- Sensor data is read usind the the ESP8266 micro controller\n",
    "- Using the MQTT protocol this data is send to the [AWS IoT Core](https://aws.amazon.com/iot-core/)\n",
    "- The AWS IoT Core forwards the recieved data to [AWS IoT Analytics](https://aws.amazon.com/iot-analytics/). \n",
    "- AWS IoT Analytics stores the recieved data in a database for later analysis. \n",
    "- The analysis of the data can be performed using different tools e.g. [AWS Quicksight](https://aws.amazon.com/quicksight/) or a Jupyter Notebook "
   ]
  },
  {
   "cell_type": "markdown",
   "metadata": {},
   "source": [
    "## The MQTT Protocol \n",
    "[Wikipedia](https://en.wikipedia.org/wiki/MQTT) defines the MQTT protocol as a\n",
    "> lightweight, publish-subscribe network protocol that transports messages between devices. ... \n",
    "> It is designed for connections with remote locations where a \"small code footprint\" is required or the network \n",
    "> bandwidth is limited. \n",
    "\n",
    "\n",
    "MQTT defines two types of entities: a MQTT message broker and a number of MQTT clients. An MQTT broker is a server that receives all messages from the clients. It is responsible for routing the messages to the appropriate clients. \n",
    "\n",
    "In the MQTT protocol data is organised in topics. A client publishes data to a topic. The message broker then distributes the information to all clients that have subscribed to that topic. Consequently, the clients publishing the data does not need any \n",
    "information about the recievers. Each client can pusblish and subscribe to many topics. \n",
    "\n",
    "The following figure gives an overview of the message flow when one client published data to which on other client subscribed. \n",
    "\n",
    "![MQTT Protocol](./img/mqtt.png)\n"
   ]
  },
  {
   "cell_type": "markdown",
   "metadata": {},
   "source": [
    "## Configuring the AWS IoT Service.\n",
    "The configuration of the AWS IoT Service is shown in this video.\n",
    "\n",
    "The program code shown in the video is available here: https://github.com/ceedee666/iot_introduction"
   ]
  },
  {
   "cell_type": "markdown",
   "metadata": {},
   "source": [
    "## Analysing AWS IoT Data"
   ]
  },
  {
   "cell_type": "markdown",
   "metadata": {},
   "source": [
    "# Navigation\n",
    "- [Previous Section ⬅️](./20_micro_controller_intro.ipynb)"
   ]
  },
  {
   "cell_type": "code",
   "execution_count": null,
   "metadata": {},
   "outputs": [],
   "source": []
  }
 ]
}