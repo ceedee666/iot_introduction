{
 "cells": [
  {
   "cell_type": "markdown",
   "metadata": {},
   "source": [
    "# Getting Started with Microcontrollers\n",
    "The following sections contain a quick start guide to using different electronic modules together with the NodeMCU microcontroller. Staring from powering an LED in the first section more complexity is added in each section. Note, that this notebook is by no means a complete guide. Instead, the goal is to help novices in getting started."
   ]
  },
  {
   "cell_type": "markdown",
   "metadata": {},
   "source": [
    "## Step 0: Powering an LED\n",
    "In order to get stated the initial step is to implemente the [Hello World](https://en.wikipedia.org/wiki/%22Hello,_World!%22_program)\n",
    "of electronics, i.e. switching on a light. In this example a LED is powered using the microcontroler. To power the LED use the NodeMCU module, the breadboard, a LED and a 220Ω resistor to build the circut shown in the follwing image.\n",
    "\n",
    "To select the right resistor the [Resistor Color Code Calculator](https://resistorcolorcodecalc.com/) can be used.\n",
    "\n",
    "![Powering a LED](./img/step_00_led.png)\n",
    "\n",
    "Once the microcontroller is connected to the USB cable, the LED should light up. If the LED does nto ligth up try to turn it around. Note, that an LED is a [diode](https://en.wikipedia.org/wiki/Diode). This means, in only conducts current in one direction."
   ]
  },
  {
   "cell_type": "markdown",
   "metadata": {},
   "source": [
    "## Step 1: Blinking a LED using Python\n",
    "The next step is to use a Python script to control the LED. Modify the circut according to the following diagram.\n",
    "\n",
    "![Blinking a LED](./img/step_10_blinking_led.png)\n",
    "\n",
    "Note, that the LED is now not diectly connected to the power pin. Instead it is connected to the pin **D1**. This is one of the general purpose input and putput pins of the microcontroller (GPIO for short). With the GPIO pins there is an important caveat. The numbering of the GPIO pins differs from the one printed on the microcontroller. The follwing table as well as the follwoing diagram show the mapping betwenn the pin numbers and the GPIO numbers. \n",
    "\n",
    "|Pin|GPIO Pin|MicroPython alias|\n",
    "|---|--------|-----------------|                 \n",
    "|D0\t|GPIO 16 |16               |\n",
    "|D1\t|GPIO 5  |5\t               |\n",
    "|D2\t|GPIO 4  |4\t               |\t\n",
    "|D3\t|GPIO 0  |0\t               |\t\n",
    "|D4\t|GPIO 2  |2\t               |\n",
    "|D5\t|GPIO 14 |14               |\n",
    "|D6\t|GPIO 12 |12               |\n",
    "|D7\t|GPIO 13 |13               |\n",
    "|D8 |GPIO 15 |15               |\n",
    "|RX |GPIO 3  |3                |\n",
    "|TX\t|GPIO 1\t |1                |\n",
    "\n",
    "![GPIO Numbering](./img/nodemcu_v3_pinout.png)"
   ]
  },
  {
   "cell_type": "markdown",
   "metadata": {},
   "source": [
    "After the circut is complete execute the following python code on the microcontroller.\n",
    "```python\n",
    "from machine import Pin\n",
    "from time import sleep_ms\n",
    "\n",
    "pin_d1 = Pin(5, Pin.OUT)\n",
    "\n",
    "for _ in range(50):\n",
    "    pin_d1.on()\n",
    "    sleep_ms(200)\n",
    "    pin_d1.off()\n",
    "    sleep_ms(200)\n",
    "\n",
    "print(\"Finished....\")\n",
    "```"
   ]
  },
  {
   "cell_type": "markdown",
   "metadata": {},
   "source": [
    "It is also possible to dim the LED using [pulse-with modulation( PWM)](https://en.wikipedia.org/wiki/Pulse-width_modulation). The following Python program shows how to dim a LED using PWM.\n",
    "\n",
    "```python\n",
    "from machine import Pin, PWM\n",
    "from time import sleep_ms\n",
    "\n",
    "d1_pwm = PWM(Pin(5), freq=1000, duty=512)\n",
    "\n",
    "dc_values = list(range(0, 257, 8))\n",
    "\n",
    "while True:\n",
    "    for dc in dc_values:\n",
    "        d1_pwm.duty(dc)\n",
    "        sleep_ms(100)\n",
    "```"
   ]
  },
  {
   "cell_type": "markdown",
   "metadata": {},
   "source": [
    "## Step 2: Traffic Lights\n",
    "The next step is to build upon powering a single LED and build a traffic ligth using three LEDs. The corresponsing circuit is shown below.\n",
    "\n",
    "![Traffic Lights](./img/step_30_traffic_light.png)\n",
    "\n",
    "### Exercise 1\n",
    "Write a Python program to control the traffic lights. The LEDs should be light in the following sequence:\n",
    "- red\n",
    "- red and yellow\n",
    "- green\n",
    "- yello \n",
    "- red\n",
    "- ...\n"
   ]
  },
  {
   "cell_type": "markdown",
   "metadata": {},
   "source": [
    "# Step 3: Button\n",
    "So far the GPIO pins were used to output information (i.e. controlling LEDs). The next step is to read data using the GPIO pins. \n",
    "The corresponding circut is shown below.\n",
    "\n",
    "![Button Input](./img/step_40_button.png)"
   ]
  },
  {
   "cell_type": "markdown",
   "metadata": {},
   "source": [
    "The following Python code blinks the LED 5 times whenever the button is pressed.\n",
    "\n",
    "```python\n",
    "from machine import Pin\n",
    "from time import sleep\n",
    "\n",
    "# Global variable to store the information if the\n",
    "# button was pressed\n",
    "button_pressed = False\n",
    "\n",
    "# Callback\n",
    "# This function is invoked when the button is pressed\n",
    "# It only set the global variable button_pressed to True\n",
    "def handle_interrupt(pin):\n",
    "    global button_pressed\n",
    "    button_pressed = True\n",
    "\n",
    "\n",
    "def blink_led():\n",
    "    for _ in range(5):\n",
    "        led.on()\n",
    "        sleep(0.2)\n",
    "        led.off()\n",
    "        sleep(0.2)\n",
    "\n",
    "\n",
    "led = Pin(15, Pin.OUT)\n",
    "button = Pin(0, Pin.IN)\n",
    "\n",
    "# When the button is pressed (i.e. the value of D8 changes\n",
    "# from low to high) the callback function handle_interrupt\n",
    "# shall be invoked.\n",
    "button.irq(trigger=Pin.IRQ_RISING, handler=handle_interrupt)\n",
    "\n",
    "\n",
    "# Endless loop.\n",
    "# Whenever the global variable button_pressed is True the function\n",
    "# blink_led() is called. Afterwards the global variable button_pressed is\n",
    "# set to false.\n",
    "while True:\n",
    "    if button_pressed:\n",
    "        blink_led()\n",
    "        button_pressed = False\n",
    "```"
   ]
  },
  {
   "cell_type": "markdown",
   "metadata": {},
   "source": [
    "### Exercise 2\n",
    "Write a python program to toggle the LED whenever the button in pressed. The first press of the button should turn the LED on, the next press of the button the LED off again. \n",
    "Hint: Try to use `Pin.value()` (http://docs.micropython.org/en/latest/library/machine.Pin.html)."
   ]
  },
  {
   "cell_type": "markdown",
   "metadata": {},
   "source": [
    "## Step 4: Reding Sensor Data\n",
    "Next, the DHT11 sensor is used to measure temerature and humidity. The required circut is shown below.\n",
    "\n",
    "![DHT11 Sensor](./img/step_60_temp.png)\n",
    "\n",
    "The sensor can be read using the following Python code. First, the temerature and the humidity a simply printed to the console. \n",
    "```python\n",
    "from machine import Pin\n",
    "from dht import DHT11\n",
    "from time import sleep\n",
    "\n",
    "sensor = DHT11(Pin(5))\n",
    "\n",
    "while True:\n",
    "    sensor.measure()\n",
    "    print(\"Temp:\", sensor.temperature(), \"- Humid:\", sensor.humidity())\n",
    "    sleep(5)\n",
    "```"
   ]
  },
  {
   "cell_type": "markdown",
   "metadata": {},
   "source": [
    "# Connecting to Wifi\n",
    "One of the great features of the NodeMCU microcontroller is, that it has a build in wifi module. The following code sinppet shows how to connect the microcontroller to a available wifi network.\n",
    "\n",
    "```python\n",
    "import network\n",
    "\n",
    "WIFI_SSID = <change to your network name>\n",
    "WIFI_PW = <change to your wifi password>\n",
    "\n",
    "wlan = network.WLAN(network.STA_IF)\n",
    "\n",
    "if not wlan.isconnected():\n",
    "    wlan.active(True)\n",
    "    print('connecting to network', WIFI_SSID)\n",
    "    wlan.connect(WIFI_SSID, WIFI_PW)\n",
    "    while not wlan.isconnected():\n",
    "        pass\n",
    "\n",
    "print(\"connected:\", wlan.ifconfig())\n",
    "```"
   ]
  },
  {
   "cell_type": "markdown",
   "metadata": {},
   "source": [
    "# Navigation\n",
    "- [Next Section ➡️](./30_aws_iot.ipynb)\n",
    "- [Previous Section ⬅️](./10_general_info.ipynb)"
   ]
  }
 ],
 "metadata": {
  "file_extension": ".py",
  "kernelspec": {
   "display_name": "Python 3",
   "language": "python",
   "name": "python3"
  },
  "language_info": {
   "codemirror_mode": {
    "name": "ipython",
    "version": 3
   },
   "file_extension": ".py",
   "mimetype": "text/x-python",
   "name": "python",
   "nbconvert_exporter": "python",
   "pygments_lexer": "ipython3",
   "version": "3.9.2"
  },
  "mimetype": "text/x-python",
  "name": "python",
  "npconvert_exporter": "python",
  "pygments_lexer": "ipython3",
  "version": 3
 },
 "nbformat": 4,
 "nbformat_minor": 2
}
