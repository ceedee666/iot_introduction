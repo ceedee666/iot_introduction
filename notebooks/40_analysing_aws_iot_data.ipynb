{
 "cells": [
  {
   "cell_type": "markdown",
   "id": "1b98a049",
   "metadata": {},
   "source": [
    "# Analyzing IoT Data with Jupyter Notebooks\n",
    "\n",
    "The prerequisite for this notebook is that you have access to an AWS IoT dataset that contains data. The corresponding configuration was shown in the lecture. \n",
    "\n",
    "To be able to read the IoT data from the dataset the following steps are necessary:\n",
    "\n",
    "1. Installation of necessary tools\n",
    "    - AWS Command Line Interfaces (CLI)\n",
    "    - AWS Python SDKs\n",
    "2. Configuration of access to the dataset\n",
    "    - Create AWS Access Key\n",
    "    - Configure AWS CLI \n",
    "\n",
    "## Installing the necessary tools\n",
    "\n",
    "Download the latest version of the AWS CLI for your operating system [here](https://aws.amazon.com/cli/) #\n",
    "and install it.\n",
    "\n",
    "To install the [AWS Python SDK](https://aws.amazon.com/sdk-for-python/), use `pip`. The following command\n",
    "installs the latest version of the AWS Python SDK:\n",
    "\n",
    "```shell\n",
    "pip install boto3\n",
    "```\n",
    "\n",
    "If you are working with virtual environments you need to make sure that the AWS Python SDK\n",
    "is also installed there (e.g. via the corresponding function in your IDE).\n",
    "\n",
    "## Configuration of access to the dataset \n",
    "\n",
    "First, you need to create an access key used to allow access to AWS resources using the AWS Python SDK.\n",
    "To create an access key perform the following steps:\n",
    "\n",
    "1. Open the [AWS Console](https://console.aws.amazon.com/). \n",
    "2. Navigate to the IAM service.\n",
    "3. Open your user and navigate to the \"Security Credentials\" tab\n",
    "4. Click on \"Create access key\".\n",
    "5. Once the access key is created, save the \"Access Key ID\" and the \"Secret Access Key\". \n",
    "\n",
    "Next, the AWS Python SDK needs to be configured for using the access key. This is done using the AWS CLI. \n",
    "To perform the configuration execute the following command\n",
    "\n",
    "```shell \n",
    "aws configure\n",
    "```\n",
    "\n",
    "The configuration program will ask for the access key ID and the secret access key. Furthermore, you\n",
    "need to specify the AWS region in which your resources are located (e.g. eu-central-1).\n",
    " \n",
    "After that the configuration is complete and you can read IoT data from the dataset and analyse it using Python 🐍."
   ]
  },
  {
   "cell_type": "markdown",
   "id": "comfortable-lesbian",
   "metadata": {},
   "source": [
    "## Example: Displaying IoT data with matplotlib\n",
    "\n",
    "First we use the Jupyter notebook command `%matplotlib inline` to activate the inline display of the \n",
    "graphs."
   ]
  },
  {
   "cell_type": "code",
   "execution_count": null,
   "id": "overall-digest",
   "metadata": {},
   "outputs": [],
   "source": [
    "%matplotlib inline"
   ]
  },
  {
   "cell_type": "markdown",
   "id": "talented-watts",
   "metadata": {},
   "source": [
    "Next, the `boto3` library is imported and an `iotanalytics` client is created. This client can\n",
    "then be used to read the AWS IoT Analytics dataset. For this, the correct name of the dataset must be passed. "
   ]
  },
  {
   "cell_type": "code",
   "execution_count": null,
   "id": "acceptable-tutorial",
   "metadata": {},
   "outputs": [],
   "source": [
    "import boto3\n",
    "\n",
    "client = boto3.client(\"iotanalytics\")\n",
    "data = client.get_dataset_content(datasetName=\"myiotanalytics_dataset\")"
   ]
  },
  {
   "cell_type": "markdown",
   "id": "robust-potential",
   "metadata": {},
   "source": [
    "The data is accessed via a URI that points to a CSV file containing the data. This CSV file can be processed, for example, using `pandas`. It might be necessary to install the pandas library first (`pip install pandas`)."
   ]
  },
  {
   "cell_type": "code",
   "execution_count": null,
   "id": "funny-printing",
   "metadata": {},
   "outputs": [],
   "source": [
    "import pandas\n",
    "\n",
    "df = pandas.read_csv(data[\"entries\"][0][\"dataURI\"])\n",
    "df"
   ]
  },
  {
   "cell_type": "markdown",
   "id": "nervous-forth",
   "metadata": {},
   "source": [
    "Finally, the data of the dataset can plotted using `matplotlib`."
   ]
  },
  {
   "cell_type": "code",
   "execution_count": null,
   "id": "recreational-placement",
   "metadata": {},
   "outputs": [],
   "source": [
    "import matplotlib.pyplot as plt\n",
    "\n",
    "ax = plt.gca()\n",
    "\n",
    "df.plot(x=\"timestamp\", y=\"humidity\", kind=\"line\", figsize=(20, 10), ax=ax)\n",
    "df.plot(x=\"timestamp\", y=\"temperature\", kind=\"line\", ax=ax)\n",
    "\n",
    "ax.set_xlabel(\"Date\")"
   ]
  }
 ],
 "metadata": {
  "kernelspec": {
   "display_name": "Python 3 (ipykernel)",
   "language": "python",
   "name": "python3"
  },
  "language_info": {
   "codemirror_mode": {
    "name": "ipython",
    "version": 3
   },
   "file_extension": ".py",
   "mimetype": "text/x-python",
   "name": "python",
   "nbconvert_exporter": "python",
   "pygments_lexer": "ipython3",
   "version": "3.9.10"
  }
 },
 "nbformat": 4,
 "nbformat_minor": 5
}
