{
 "cells": [
  {
   "cell_type": "code",
   "execution_count": null,
   "id": "overall-digest",
   "metadata": {},
   "outputs": [],
   "source": [
    "%matplotlib inline"
   ]
  },
  {
   "cell_type": "code",
   "execution_count": null,
   "id": "acceptable-tutorial",
   "metadata": {},
   "outputs": [],
   "source": [
    "import boto3\n",
    "\n",
    "client = boto3.client('iotanalytics')\n",
    "data = client.get_dataset_content(datasetName='myiotanalytics_dataset')"
   ]
  },
  {
   "cell_type": "code",
   "execution_count": null,
   "id": "funny-printing",
   "metadata": {},
   "outputs": [],
   "source": [
    "import pandas\n",
    "\n",
    "df = pandas.read_csv(data[\"entries\"][0][\"dataURI\"])\n",
    "df"
   ]
  },
  {
   "cell_type": "code",
   "execution_count": null,
   "id": "recreational-placement",
   "metadata": {},
   "outputs": [],
   "source": [
    "import matplotlib.pyplot as plt\n",
    "\n",
    "ax = plt.gca()\n",
    "\n",
    "df.plot(x=\"timestamp\", y=\"humidity\", kind=\"line\", figsize=(20,10), ax=ax)\n",
    "df.plot(x=\"timestamp\", y=\"temperature\", kind=\"line\", ax=ax)\n",
    "\n",
    "ax.set_xlabel(\"Date\")"
   ]
  }
 ],
 "metadata": {
  "kernelspec": {
   "display_name": "Python 3",
   "language": "python",
   "name": "python3"
  },
  "language_info": {
   "codemirror_mode": {
    "name": "ipython",
    "version": 3
   },
   "file_extension": ".py",
   "mimetype": "text/x-python",
   "name": "python",
   "nbconvert_exporter": "python",
   "pygments_lexer": "ipython3",
   "version": "3.9.2"
  }
 },
 "nbformat": 4,
 "nbformat_minor": 5
}
